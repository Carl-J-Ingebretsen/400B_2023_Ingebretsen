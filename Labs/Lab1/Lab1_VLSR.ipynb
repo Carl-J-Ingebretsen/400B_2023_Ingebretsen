{
 "cells": [
  {
   "cell_type": "markdown",
   "metadata": {},
   "source": [
    "# In Class Lab 1\n",
    "\n",
    "### Due by 5 PM Jan 31st in your github repository 'Labs/Lab1' folder\n",
    "\n",
    "## Part A:  The Local Standard of Rest\n",
    "Proper motion of Sgr A* from Reid & Brunthaler 2004\n",
    "$\\mu = 6.379$ mas/yr \n",
    "\n",
    "Peculiar motion of the sun, $v_\\odot$ = 12.24 km/s  (Schonrich 2010)\n",
    "\n",
    "\n",
    "$v_{tan} = 4.74 \\frac{\\mu}{\\rm mas/yr} \\frac{R_o}{\\rm kpc} = V_{LSR} + v_\\odot$\n",
    "\n",
    "\n",
    "### a)\n",
    "\n",
    "Create a function called VLSR to compute the local standard of res (V$_{LSR}$).\n",
    "\n",
    "The function should take as input: the solar radius (R$_o$), the proper motion (mu)\n",
    "and the peculiar motion of the sun in the $v_\\odot$ direction.\n",
    "\n",
    "Compute V$_{LSR}$ using three different values R$_o$: \n",
    "1. Water Maser Distance for the Sun :  R$_o$ = 8.34 kpc   (Reid 2014 ApJ 783) \n",
    "2. GRAVITY Collaboration Distance for the Sun:  R$_o$ = 8.178 kpc   (Abuter+2019 A&A 625)\n",
    "3. Value for Distance to Sun listed in Sparke & Gallagher : R$_o$ = 7.9 kpc \n"
   ]
  },
  {
   "cell_type": "code",
   "execution_count": 1,
   "metadata": {},
   "outputs": [],
   "source": [
    "# Import Modules \n",
    "import numpy as np # import numpy\n",
    "import astropy.units as u # import astropy units\n",
    "from astropy import constants as const # import astropy constants"
   ]
  },
  {
   "cell_type": "code",
   "execution_count": 5,
   "metadata": {},
   "outputs": [
    {
     "name": "stdout",
     "output_type": "stream",
     "text": [
      "VLSR computed with water maser:  239.9320764 km / s\n",
      "VLSR computed with gravity collab value:  235.03376988000002 km / s\n",
      "VLSR computed with Sparke and galleger value:  226.628034 km / s\n"
     ]
    }
   ],
   "source": [
    "def VLSR(Sol_rad, mu=6.379, pec_motion=12.24*u.km/u.s):\n",
    "    '''This function calculates the local standard of rest V_LSR.\n",
    "    The inputs are:\n",
    "    the radius the sun is at in the galaxy (kpc), \n",
    "    the proper motion mu in (mas/yr) mu=6.379 mas/yr (Reid & Brunthaler 2004)\n",
    "    and the peculiar motion in km/s 12.24 km/s (SChonrich 2010).\n",
    "    \n",
    "    It returns the local standard of rest velocity in km/s'''\n",
    "    return 4.74*mu*Sol_rad/u.kpc*u.km/u.s-pec_motion\n",
    "\n",
    "#compute the motion\n",
    "#V peculiar is 12.24 km/s\n",
    "#Using water maser R_sol 8.34 kpc\n",
    "v_pec = 12.24*u.km/u.s\n",
    "mu = 6.379#*u.uas #mas?? milli or micro\n",
    "R_Reid = 8.34*u.kpc #Reid 2014\n",
    "VLSR_Reid=VLSR(R_Reid)\n",
    "print(\"VLSR computed with water maser: \", VLSR(R_Reid))\n",
    "R_Gravity=8.178*u.kpc #Abuter+2019\n",
    "VLSR_Gravity = VLSR(R_Gravity)\n",
    "print(\"VLSR computed with gravity collab value: \", VLSR(R_Gravity))\n",
    "R_Sparke=7.9*u.kpc\n",
    "VLSR_Sparke = VLSR(R_Sparke)\n",
    "print(\"VLSR computed with Sparke and galleger value: \", VLSR(R_Sparke))\n",
    "\n",
    "#VLSR computed with water maser:  239.9320764 km / s\n",
    "#VLSR computed with gravity collab value:  235.03376988000002 km / s\n",
    "#VLSR computed with Sparke and galleger value:  226.628034 km / s\n"
   ]
  },
  {
   "cell_type": "code",
   "execution_count": null,
   "metadata": {},
   "outputs": [],
   "source": []
  },
  {
   "cell_type": "markdown",
   "metadata": {},
   "source": [
    "### b)\n",
    "\n",
    "compute the orbital period of the sun in Gyr using R$_o$ from the GRAVITY Collaboration (assume circular orbit)\n",
    "\n",
    "Note that 1 km/s $\\sim$ 1kpc/Gyr"
   ]
  },
  {
   "cell_type": "code",
   "execution_count": 6,
   "metadata": {},
   "outputs": [
    {
     "name": "stdout",
     "output_type": "stream",
     "text": [
      "Orbital period of the sun:  0.20318680562272234 Gyr\n"
     ]
    }
   ],
   "source": [
    "def TorbSun(R,v):\n",
    "    '''This function calculates the orbital period of the sun about the galaxy.\n",
    "    T = 2*pi*R_sun /v\n",
    "    \n",
    "    Inputs: R: The radius of the sun orbit in kpc (astropy)\n",
    "            v: The astropy quantity velocity of the sun in km/s\n",
    "            \n",
    "    Output: The orbital period of the sun in Gyr'''\n",
    "    VkpcGyr = v.to(u.kpc/u.Gyr) #conver v from km/s it kpc/Gyr\n",
    "    return 2*np.pi*R/VkpcGyr\n",
    "\n",
    "#Use gravity collab result for VLSR\n",
    "VSun = VLSR_Gravity+v_pec\n",
    "T_Sun_orb =  TorbSun(R_Gravity,VSun)\n",
    "print(\"Orbital period of the sun: \", T_Sun_orb)\n",
    "#Orbital period of the sun:  0.20318680562272234 Gyr"
   ]
  },
  {
   "cell_type": "markdown",
   "metadata": {},
   "source": [
    "### c)\n",
    "\n",
    "Compute the number of rotations about the GC over the age of the universe (13.8 Gyr)"
   ]
  },
  {
   "cell_type": "code",
   "execution_count": 7,
   "metadata": {},
   "outputs": [
    {
     "name": "stdout",
     "output_type": "stream",
     "text": [
      "Number of times the sun orbited the galaxy:  67.91779593023313\n"
     ]
    }
   ],
   "source": [
    "Universe_age = 13.8*u.Gyr\n",
    "print(\"Number of times the sun orbited the galaxy: \", Universe_age/T_Sun_orb)"
   ]
  },
  {
   "cell_type": "markdown",
   "metadata": {},
   "source": [
    "## Part B  Dark Matter Density Profiles\n",
    "\n",
    "### a)\n",
    "Try out Fitting Rotation Curves \n",
    "[here](http://wittman.physics.ucdavis.edu/Animations/RotationCurve/GalacticRotation.html)\n",
    "# Point Mass =0\n",
    "# Star mass 78*10**9 Msol\n",
    "# Dark Matter mass 12*10**11 Msol\n",
    "\n",
    "\n",
    "### b)\n",
    "\n",
    "\n",
    "In the Isothermal Sphere model, what is the mass enclosed within the solar radius (R$_o$) in units of M$_\\odot$? \n",
    "\n",
    "Recall that for the Isothermal sphere :\n",
    "$\\rho(r) = \\frac{V_{LSR}^2}{4\\pi G r^2}$\n",
    "\n",
    "Where $G$ = 4.4985e-6 kpc$^3$/Gyr$^2$/M$_\\odot$, r is in kpc and $V_{LSR}$ is in km/s\n",
    "\n",
    "What about at 260 kpc (in units of  M$_\\odot$) ? "
   ]
  },
  {
   "cell_type": "code",
   "execution_count": 8,
   "metadata": {},
   "outputs": [
    {
     "name": "stdout",
     "output_type": "stream",
     "text": [
      "The mass enclosed within the solar radius:  105038025820.79904 solMass\n",
      "1.05e+11 solMass\n",
      "The mass enclosed within 260 kpc: \n",
      "3.34e+12 solMass\n"
     ]
    }
   ],
   "source": [
    "#density is rho = VLSR^2 / (4*pi*G*R^2)\n",
    "#need to integral rho over volume\n",
    "#rho*4*pi*r^2*dr=VLSR**2/(4*pi*G*r**2) *4*pi*r**2*dr\n",
    "#=VLSR**2/G *dr\n",
    "\n",
    "#gravitational constant\n",
    "Grav = const.G.to(u.kpc**3/u.Gyr**2/u.Msun)\n",
    "\n",
    "def MassIso(r, VLSR):\n",
    "    '''this function will compute the dark matter mass enclosed within a given\n",
    "    distnace asuming an iso thermal sphere model\n",
    "    M=VLSR**2 / G * r\n",
    "\n",
    "    Inputs:\n",
    "    r: (astropy unit kpc) distance to galactic center\n",
    "    VLSR: (astropy km/s) the velocity of local standard of rest\n",
    "    \n",
    "    Returns: the enclosed dark matter mass in M_sun (astropy)'''\n",
    "    #convert km/s to kpc/Gyr\n",
    "    VkpcGyr_2 = VLSR.to(u.kpc/u.Gyr) #conver v from km/s it kpc/Gyr\n",
    "    M=VkpcGyr_2**2/Grav*r\n",
    "    return M\n",
    "\n",
    "M_enclosed_solar=MassIso(R_Gravity, VLSR_Gravity)\n",
    "print(\"The mass enclosed within the solar radius: \", M_enclosed_solar)\n",
    "print(f\"{M_enclosed_solar:.2e}\")\n",
    "\n",
    "#Compute again for r=260kpc\n",
    "M_enclosed_260=MassIso(260*u.kpc, VLSR_Gravity)\n",
    "print(\"The mass enclosed within 260 kpc: \")\n",
    "print(f\"{M_enclosed_260:.2e}\")"
   ]
  },
  {
   "cell_type": "markdown",
   "metadata": {},
   "source": [
    "## c) \n",
    "\n",
    "The Leo I satellite is one of the fastest moving satellite galaxies we know. \n",
    "\n",
    "\n",
    "It is moving with 3D velocity of magnitude: Vtot = 196 km/s at a distance of 260 kpc (Sohn 2013 ApJ 768)\n",
    "\n",
    "If we assume that Leo I is moving at the escape speed:\n",
    "\n",
    "$v_{esc}^2 = 2|\\Phi| = 2 \\int G \\frac{\\rho(r)}{r}dV $ \n",
    "\n",
    "and assuming the Milky Way is well modeled by a Hernquist Sphere with a scale radius of $a$= 30 kpc, what is the minimum mass of the Milky Way (in units of M$_\\odot$) ?  \n",
    "\n",
    "How does this compare to estimates of the mass assuming the Isothermal Sphere model at 260 kpc (from your answer above)"
   ]
  },
  {
   "cell_type": "code",
   "execution_count": 11,
   "metadata": {},
   "outputs": [
    {
     "name": "stdout",
     "output_type": "stream",
     "text": [
      "The mass with the Hernquist Sphere model is:  149440035791.20435 solMass\n",
      "1.49e+11 solMass\n",
      "The mass with the isothermal Sphere model is:  2322332510226.5317 solMass\n",
      "2.32e+12 solMass\n",
      "The Hernquist Model gives a mass that is about a factor of 10 lower than      the isothermal sphere model for the same radius and speed.\n"
     ]
    }
   ],
   "source": [
    "#The speed of the Leo I dwarf galaxy and its distance are:\n",
    "v_Leo = 196*u.km/u.s\n",
    "r_Leo = 260*u.kpc #Both Sohn 2013\n",
    "\n",
    "def Hernquist_Sphere(v,r,a=30*u.kpc):\n",
    "    \"\"\"This function calculates the enclosed mass of the galaxy at radius r\n",
    "    assuming a Hernquist Sphere model with a scale radius of a.\n",
    "    The Hernquist modle is rho(r)=M/(2pi)*a/(r(r+a)^3)\n",
    "    Potentail: phi=-G*M/(r+a)\n",
    "    The escape speed is: v^2=2|phi|\n",
    "    The mass is: M=vesc^2/(2GM)*(r+a)\n",
    "    The velocity of the galaxy is:\n",
    "    v^2=2 int_0^r[Grho(r)/r dV]. This results in an expression for the mass of:\n",
    "    M=v^2a/(2G)*(r^2+2ar+a^2)/(r(r+2a)).\n",
    "    \n",
    "    Inputs:\n",
    "    v: the speed of the galaxy in km/s (astropy)\n",
    "    r: the radius in which the mass is to be determined (kpc)\n",
    "    a: the scale radius of the model in (kpc)\n",
    "    Returns:\n",
    "    M: the enclosed mass in M_sol.\"\"\"\n",
    "\n",
    "\n",
    "    \n",
    "    v_kpcGyr = v.to(u.kpc/u.Gyr) #conver v from km/s it kpc/Gyr\n",
    "    #M=(v_kpcGyr**2*a)/(2*Grav)*(r**2+2*r*a+a**2)/(r*(r+a)) #using the integral method\n",
    "    #Alternate way with potential\n",
    "    M=v_kpcGyr**2/2/Grav*(r+a)\n",
    "    return M\n",
    "\n",
    "#Mass determined with hernquist sphere:\n",
    "M_Hern = Hernquist_Sphere(v_Leo,r_Leo)\n",
    "print(\"The mass with the Hernquist Sphere model is: \", M_Hern)\n",
    "print(f\"{M_Hern:.2e}\")\n",
    "#mass with isothermal spehre:\n",
    "M_iso_Leo = MassIso(r_Leo,v_Leo)\n",
    "print(\"The mass with the isothermal Sphere model is: \", M_iso_Leo)\n",
    "print(f\"{M_iso_Leo:.2e}\")\n",
    "print(\"The Hernquist Model gives a mass that is about a factor of 2 lower than\\\n",
    "      the isothermal sphere model for the same radius and speed.\")"
   ]
  },
  {
   "cell_type": "code",
   "execution_count": null,
   "metadata": {},
   "outputs": [],
   "source": []
  }
 ],
 "metadata": {
  "kernelspec": {
   "display_name": "Python 3 (ipykernel)",
   "language": "python",
   "name": "python3"
  },
  "language_info": {
   "codemirror_mode": {
    "name": "ipython",
    "version": 3
   },
   "file_extension": ".py",
   "mimetype": "text/x-python",
   "name": "python",
   "nbconvert_exporter": "python",
   "pygments_lexer": "ipython3",
   "version": "3.9.13 (main, Aug 25 2022, 18:29:29) \n[Clang 12.0.0 ]"
  },
  "vscode": {
   "interpreter": {
    "hash": "f3271a4c4d4a65e3e34d31cc7cd81e5719d6089c5716ae85078e2073627fb769"
   }
  }
 },
 "nbformat": 4,
 "nbformat_minor": 2
}
